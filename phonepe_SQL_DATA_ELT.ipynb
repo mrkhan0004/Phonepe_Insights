{
 "cells": [
  {
   "cell_type": "code",
   "execution_count": 2,
   "id": "07e9bb4d-7d1d-4612-9a2d-004da783fa37",
   "metadata": {},
   "outputs": [
    {
     "name": "stdout",
     "output_type": "stream",
     "text": [
      "Requirement already satisfied: pandas in c:\\users\\lenovo\\anaconda3\\lib\\site-packages (2.2.2)\n",
      "Requirement already satisfied: sqlalchemy in c:\\users\\lenovo\\anaconda3\\lib\\site-packages (2.0.34)\n",
      "Requirement already satisfied: mysql-connector-python in c:\\users\\lenovo\\anaconda3\\lib\\site-packages (9.3.0)\n",
      "Requirement already satisfied: numpy>=1.26.0 in c:\\users\\lenovo\\anaconda3\\lib\\site-packages (from pandas) (1.26.4)\n",
      "Requirement already satisfied: python-dateutil>=2.8.2 in c:\\users\\lenovo\\anaconda3\\lib\\site-packages (from pandas) (2.9.0.post0)\n",
      "Requirement already satisfied: pytz>=2020.1 in c:\\users\\lenovo\\anaconda3\\lib\\site-packages (from pandas) (2024.1)\n",
      "Requirement already satisfied: tzdata>=2022.7 in c:\\users\\lenovo\\anaconda3\\lib\\site-packages (from pandas) (2023.3)\n",
      "Requirement already satisfied: typing-extensions>=4.6.0 in c:\\users\\lenovo\\anaconda3\\lib\\site-packages (from sqlalchemy) (4.11.0)\n",
      "Requirement already satisfied: greenlet!=0.4.17 in c:\\users\\lenovo\\anaconda3\\lib\\site-packages (from sqlalchemy) (3.0.1)\n",
      "Requirement already satisfied: six>=1.5 in c:\\users\\lenovo\\anaconda3\\lib\\site-packages (from python-dateutil>=2.8.2->pandas) (1.16.0)\n"
     ]
    }
   ],
   "source": [
    "!pip install pandas sqlalchemy mysql-connector-python"
   ]
  },
  {
   "cell_type": "markdown",
   "id": "719de2f6-f2a8-446a-8c89-94cceb535e52",
   "metadata": {
    "jp-MarkdownHeadingCollapsed": true
   },
   "source": [
    "# Agregated Transcation Data for SQL "
   ]
  },
  {
   "cell_type": "code",
   "execution_count": 4,
   "id": "03d1dfd0-6f4d-4bd3-b148-13454e461eff",
   "metadata": {},
   "outputs": [
    {
     "name": "stdout",
     "output_type": "stream",
     "text": [
      "✅ Transaction data loaded successfully!\n"
     ]
    }
   ],
   "source": [
    "import os\n",
    "import json\n",
    "import mysql.connector\n",
    "\n",
    "# ✅ Path to transaction data folder\n",
    "base_path = r\"C:/Users/LENOVO/Desktop/Phone pe/pulse-master/pulse-master/data/aggregated/transaction/country/india/state\"\n",
    "\n",
    "# ✅ MySQL Connection\n",
    "connection = mysql.connector.connect(\n",
    "    host='localhost',\n",
    "    user='root',\n",
    "    password='Root',  # 👈 change if needed\n",
    "    database='phonepe'\n",
    ")\n",
    "cursor = connection.cursor()\n",
    "\n",
    "# ✅ Loop through folders: state/year/quarter.json\n",
    "for state in os.listdir(base_path):\n",
    "    state_path = os.path.join(base_path, state)\n",
    "    for year in os.listdir(state_path):\n",
    "        year_path = os.path.join(state_path, year)\n",
    "        for quarter_file in os.listdir(year_path):\n",
    "            file_name = quarter_file.strip('.json')\n",
    "            if not file_name.isdigit():\n",
    "                continue  # skip any unwanted files\n",
    "\n",
    "            quarter = int(file_name)\n",
    "            file_path = os.path.join(year_path, quarter_file)\n",
    "\n",
    "            with open(file_path, 'r') as f:\n",
    "                data = json.load(f)\n",
    "\n",
    "            if 'data' in data and 'transactionData' in data['data']:\n",
    "                for item in data['data']['transactionData']:\n",
    "                    txn_type = item['name']\n",
    "                    txn_count = item['paymentInstruments'][0]['count']\n",
    "                    txn_amount = item['paymentInstruments'][0]['amount']\n",
    "\n",
    "                    insert_query = \"\"\"\n",
    "                    INSERT INTO aggregated_transaction (state, year, quarter, transaction_type, transaction_count, transaction_amount)\n",
    "                    VALUES (%s, %s, %s, %s, %s, %s)\n",
    "                    \"\"\"\n",
    "                    values = (state, int(year), quarter, txn_type, txn_count, txn_amount)\n",
    "                    cursor.execute(insert_query, values)\n",
    "\n",
    "# ✅ Finalize\n",
    "connection.commit()\n",
    "cursor.close()\n",
    "connection.close()\n",
    "\n",
    "print(\"✅ Transaction data loaded successfully!\")\n"
   ]
  },
  {
   "cell_type": "markdown",
   "id": "206e819b-9b4d-46e1-8352-df615f475226",
   "metadata": {
    "jp-MarkdownHeadingCollapsed": true
   },
   "source": [
    "# Agregated_User Data for SQL "
   ]
  },
  {
   "cell_type": "code",
   "execution_count": 6,
   "id": "db593f1d-c4bc-45cf-b9d7-80363c883030",
   "metadata": {},
   "outputs": [
    {
     "name": "stdout",
     "output_type": "stream",
     "text": [
      "✅ Aggregated user data loaded successfully!\n"
     ]
    }
   ],
   "source": [
    "import os\n",
    "import json\n",
    "import mysql.connector\n",
    "\n",
    "# ✅ Correct path\n",
    "base_path = r\"C:/Users/LENOVO/Desktop/Phone pe/pulse-master/pulse-master/data/aggregated/user/country/india/state\"\n",
    "\n",
    "# ✅ MySQL connection\n",
    "connection = mysql.connector.connect(\n",
    "    host='localhost',\n",
    "    user='root',\n",
    "    password='Root',\n",
    "    database='phonepe'\n",
    ")\n",
    "cursor = connection.cursor()\n",
    "\n",
    "for state in os.listdir(base_path):\n",
    "    state_path = os.path.join(base_path, state)\n",
    "    for year in os.listdir(state_path):\n",
    "        year_path = os.path.join(state_path, year)\n",
    "        for quarter_file in os.listdir(year_path):\n",
    "            file_name = quarter_file.strip('.json')\n",
    "            if not file_name.isdigit():\n",
    "                continue\n",
    "\n",
    "            quarter = int(file_name)\n",
    "            file_path = os.path.join(year_path, quarter_file)\n",
    "\n",
    "            with open(file_path, 'r') as f:\n",
    "                data = json.load(f)\n",
    "\n",
    "            if 'data' in data and 'aggregated' in data['data']:\n",
    "                registered_users = data['data']['aggregated'].get('registeredUsers', 0)\n",
    "                app_opens = data['data']['aggregated'].get('appOpens', 0)\n",
    "\n",
    "                insert_query = \"\"\"\n",
    "                INSERT INTO aggregated_user (state, year, quarter, registered_users, app_opens)\n",
    "                VALUES (%s, %s, %s, %s, %s)\n",
    "                \"\"\"\n",
    "                values = (state, int(year), quarter, registered_users, app_opens)\n",
    "                cursor.execute(insert_query, values)\n",
    "\n",
    "connection.commit()\n",
    "cursor.close()\n",
    "connection.close()\n",
    "\n",
    "print(\"✅ Aggregated user data loaded successfully!\")\n"
   ]
  },
  {
   "cell_type": "markdown",
   "id": "cd79d6bd-89d8-4301-a4bb-91a7cbbe087e",
   "metadata": {
    "jp-MarkdownHeadingCollapsed": true
   },
   "source": [
    "# aggregated_insurance Data for SQL "
   ]
  },
  {
   "cell_type": "code",
   "execution_count": 8,
   "id": "6d084432-f5d9-44d5-9fe3-4bfbed954dff",
   "metadata": {},
   "outputs": [
    {
     "name": "stdout",
     "output_type": "stream",
     "text": [
      "✅ Aggregated insurance data loaded successfully!\n"
     ]
    }
   ],
   "source": [
    "import os\n",
    "import json\n",
    "import mysql.connector\n",
    "\n",
    "# ✅ Correct path\n",
    "base_path = r\"C:/Users/LENOVO/Desktop/Phone pe/pulse-master/pulse-master/data/aggregated/insurance/country/india/state\"\n",
    "\n",
    "# ✅ MySQL connection\n",
    "connection = mysql.connector.connect(\n",
    "    host='localhost',\n",
    "    user='root',\n",
    "    password='Root',\n",
    "    database='phonepe'\n",
    ")\n",
    "cursor = connection.cursor()\n",
    "\n",
    "for state in os.listdir(base_path):\n",
    "    state_path = os.path.join(base_path, state)\n",
    "    for year in os.listdir(state_path):\n",
    "        year_path = os.path.join(state_path, year)\n",
    "        for quarter_file in os.listdir(year_path):\n",
    "            file_name = quarter_file.strip('.json')\n",
    "            if not file_name.isdigit():\n",
    "                continue\n",
    "\n",
    "            quarter = int(file_name)\n",
    "            file_path = os.path.join(year_path, quarter_file)\n",
    "\n",
    "            with open(file_path, 'r') as f:\n",
    "                data = json.load(f)\n",
    "\n",
    "            if 'data' in data and 'transactionData' in data['data']:\n",
    "                for item in data['data']['transactionData']:\n",
    "                    insurance_type = item['name']\n",
    "                    insurance_count = item['paymentInstruments'][0]['count']\n",
    "                    insurance_amount = item['paymentInstruments'][0]['amount']\n",
    "\n",
    "                    insert_query = \"\"\"\n",
    "                    INSERT INTO aggregated_insurance (state, year, quarter, insurance_type, insurance_count, insurance_amount)\n",
    "                    VALUES (%s, %s, %s, %s, %s, %s)\n",
    "                    \"\"\"\n",
    "                    values = (state, int(year), quarter, insurance_type, insurance_count, insurance_amount)\n",
    "                    cursor.execute(insert_query, values)\n",
    "\n",
    "connection.commit()\n",
    "cursor.close()\n",
    "connection.close()\n",
    "\n",
    "print(\"✅ Aggregated insurance data loaded successfully!\")\n"
   ]
  },
  {
   "cell_type": "markdown",
   "id": "78f29eed-ccbf-4877-8b80-2a6fed661b85",
   "metadata": {
    "jp-MarkdownHeadingCollapsed": true
   },
   "source": [
    "# Map_transaction Data for SQL "
   ]
  },
  {
   "cell_type": "code",
   "execution_count": 14,
   "id": "41bc65a6-794c-4035-9a2b-6d4d3342e815",
   "metadata": {},
   "outputs": [
    {
     "name": "stdout",
     "output_type": "stream",
     "text": [
      "✅ map_transaction loaded\n"
     ]
    }
   ],
   "source": [
    "# \"C:/Users/LENOVO/Desktop/Phone pe/pulse-master/pulse-master/data/map/transaction/hover/country/india/state\"\n",
    "\n",
    "import os\n",
    "import json\n",
    "import mysql.connector\n",
    "\n",
    "base_path = r\"C:/Users/LENOVO/Desktop/Phone pe/pulse-master/pulse-master/data/map/transaction/hover/country/india/state\"\n",
    "\n",
    "conn = mysql.connector.connect(host='localhost', user='root', password='Root', database='phonepe')\n",
    "cur = conn.cursor()\n",
    "\n",
    "for state in os.listdir(base_path):\n",
    "    state_path = os.path.join(base_path, state)\n",
    "    for year in os.listdir(state_path):\n",
    "        year_path = os.path.join(state_path, year)\n",
    "        for quarter_file in os.listdir(year_path):\n",
    "            if not quarter_file.endswith('.json'):\n",
    "                continue\n",
    "\n",
    "            quarter = int(quarter_file.strip('.json'))\n",
    "            file_path = os.path.join(year_path, quarter_file)\n",
    "\n",
    "            # print(f\"📖 Reading file: {file_path}\")\n",
    "\n",
    "            with open(file_path, 'r') as f:\n",
    "                data = json.load(f)\n",
    "\n",
    "            hover_data = data.get('data', {}).get('hoverDataList') or []\n",
    "\n",
    "            if not hover_data:\n",
    "                # print(f\"⚠️ No hoverDataList in: {file_path}\")\n",
    "                continue\n",
    "\n",
    "            for item in hover_data:\n",
    "                district = item.get('name')\n",
    "                txn_count = item.get('metric', [{}])[0].get('count', 0)\n",
    "                txn_amount = item.get('metric', [{}])[0].get('amount', 0.0)\n",
    "\n",
    "                # print(f\"📝 Inserting: {state} | {year} | Q{quarter} | {district} | {txn_count} | {txn_amount}\")\n",
    "\n",
    "                cur.execute(\"\"\"\n",
    "                    INSERT INTO map_transaction (state, year, quarter, district, transaction_count, transaction_amount)\n",
    "                    VALUES (%s, %s, %s, %s, %s, %s)\n",
    "                \"\"\", (state, int(year), quarter, district, txn_count, txn_amount))\n",
    "\n",
    "conn.commit()\n",
    "cur.close()\n",
    "conn.close()\n",
    "\n",
    "print(\"✅ map_transaction loaded\")\n",
    "\n"
   ]
  },
  {
   "cell_type": "code",
   "execution_count": null,
   "id": "1d1a68c3-f5c7-47fe-af65-7ee7521595d7",
   "metadata": {},
   "outputs": [],
   "source": []
  },
  {
   "cell_type": "markdown",
   "id": "f40088e1-4595-4321-aa21-1459e2b0e5dd",
   "metadata": {
    "jp-MarkdownHeadingCollapsed": true
   },
   "source": [
    "# Map_User Data for SQL "
   ]
  },
  {
   "cell_type": "code",
   "execution_count": 16,
   "id": "b1e7500a-d811-4d90-9624-19ea5de3893c",
   "metadata": {},
   "outputs": [
    {
     "name": "stdout",
     "output_type": "stream",
     "text": [
      "\n",
      "✅ map_user data load complete\n"
     ]
    }
   ],
   "source": [
    "import os\n",
    "import json\n",
    "import mysql.connector\n",
    "\n",
    "base_path = r\"C:/Users/LENOVO/Desktop/Phone pe/pulse-master/pulse-master/data/map/user/hover/country/india/state\"\n",
    "\n",
    "conn = mysql.connector.connect(\n",
    "    host='localhost',\n",
    "    user='root',\n",
    "    password='Root',\n",
    "    database='phonepe'\n",
    ")\n",
    "cur = conn.cursor()\n",
    "\n",
    "for state in os.listdir(base_path):\n",
    "    state_path = os.path.join(base_path, state)\n",
    "    for year in os.listdir(state_path):\n",
    "        year_path = os.path.join(state_path, year)\n",
    "        for file in os.listdir(year_path):\n",
    "            if not file.endswith(\".json\"):\n",
    "                continue\n",
    "\n",
    "            quarter = int(file.strip(\".json\"))\n",
    "            file_path = os.path.join(year_path, file)\n",
    "\n",
    "            # print(f\"\\n📂 Reading: {file_path}\")\n",
    "\n",
    "            with open(file_path, 'r') as f:\n",
    "                data = json.load(f)\n",
    "\n",
    "            hover_data = data.get(\"data\", {}).get(\"hoverData\", {})\n",
    "            # print(f\"🟡 hoverData found with {len(hover_data)} districts\")\n",
    "\n",
    "            for district, values in hover_data.items():\n",
    "                registered_users = values.get(\"registeredUsers\", 0)\n",
    "\n",
    "                # print(f\"📌 Inserting: {state}, {year}, Q{quarter}, {district}, {registered_users}\")\n",
    "\n",
    "                cur.execute(\"\"\"\n",
    "                    INSERT INTO map_user (state, year, quarter, district, registered_users)\n",
    "                    VALUES (%s, %s, %s, %s, %s)\n",
    "                \"\"\", (state, int(year), quarter, district, registered_users))\n",
    "\n",
    "conn.commit()\n",
    "cur.close()\n",
    "conn.close()\n",
    "\n",
    "print(\"\\n✅ map_user data load complete\")\n"
   ]
  },
  {
   "cell_type": "markdown",
   "id": "050261bc-f19f-4b7a-9a66-d02c0820a7a4",
   "metadata": {
    "jp-MarkdownHeadingCollapsed": true
   },
   "source": [
    "# Map_insurance Data for SQL "
   ]
  },
  {
   "cell_type": "code",
   "execution_count": 24,
   "id": "4efd677f-f811-498a-9467-67858f7ee71f",
   "metadata": {},
   "outputs": [
    {
     "name": "stdout",
     "output_type": "stream",
     "text": [
      "\n",
      "✅ map_insurance data loaded successfully!\n"
     ]
    }
   ],
   "source": [
    "import os\n",
    "import json\n",
    "import mysql.connector\n",
    "\n",
    "# ✅ CORRECTED PATH\n",
    "base_path = r\"C:/Users/LENOVO/Desktop/Phone pe/pulse-master/pulse-master/data/map/insurance/hover/country/india/state\"\n",
    "\n",
    "conn = mysql.connector.connect(\n",
    "    host='localhost',\n",
    "    user='root',\n",
    "    password='Root',\n",
    "    database='phonepe'\n",
    ")\n",
    "cur = conn.cursor()\n",
    "\n",
    "for state in os.listdir(base_path):\n",
    "    state_path = os.path.join(base_path, state)\n",
    "    for year in os.listdir(state_path):\n",
    "        year_path = os.path.join(state_path, year)\n",
    "        for file in os.listdir(year_path):\n",
    "            if not file.endswith(\".json\"):\n",
    "                continue\n",
    "\n",
    "            quarter = int(file.strip(\".json\"))\n",
    "            file_path = os.path.join(year_path, file)\n",
    "\n",
    "            with open(file_path, 'r') as f:\n",
    "                data = json.load(f)\n",
    "\n",
    "            hover_data_list = data.get(\"data\", {}).get(\"hoverDataList\", [])\n",
    "\n",
    "            if not hover_data_list:\n",
    "                # print(f\"⚠️ Empty hoverDataList in: {file_path}\")\n",
    "                continue\n",
    "\n",
    "            for item in hover_data_list:\n",
    "                district = item.get(\"name\")\n",
    "                metric = item.get(\"metric\", [{}])[0]\n",
    "                insured_users = metric.get(\"count\", 0)\n",
    "\n",
    "                # print(f\"🟢 Inserting: {state} | {year} | Q{quarter} | {district} | insured_users: {insured_users}\")\n",
    "\n",
    "                cur.execute(\"\"\"\n",
    "                    INSERT INTO map_insurance (state, year, quarter, district, insured_users)\n",
    "                    VALUES (%s, %s, %s, %s, %s)\n",
    "                \"\"\", (state, int(year), quarter, district, insured_users))\n",
    "\n",
    "conn.commit()\n",
    "cur.close()\n",
    "conn.close()\n",
    "\n",
    "print(\"\\n✅ map_insurance data loaded successfully!\")\n"
   ]
  },
  {
   "cell_type": "markdown",
   "id": "4a68a3d4-857f-4f22-a40a-9ee28d098434",
   "metadata": {
    "jp-MarkdownHeadingCollapsed": true
   },
   "source": [
    "# Top_transaction Data for SQL "
   ]
  },
  {
   "cell_type": "code",
   "execution_count": 26,
   "id": "d64ae2c0-58ea-41e4-a604-052728a5543b",
   "metadata": {},
   "outputs": [
    {
     "name": "stdout",
     "output_type": "stream",
     "text": [
      "\n",
      "✅ top_transaction data loaded successfully!\n"
     ]
    }
   ],
   "source": [
    "import os\n",
    "import json\n",
    "import mysql.connector\n",
    "\n",
    "# ✅ Path to top transaction JSONs\n",
    "base_path = r\"C:/Users/LENOVO/Desktop/Phone pe/pulse-master/pulse-master/data/top/transaction/country/india/state\"\n",
    "\n",
    "# ✅ Connect to MySQL\n",
    "conn = mysql.connector.connect(\n",
    "    host='localhost',\n",
    "    user='root',\n",
    "    password='Root',\n",
    "    database='phonepe'\n",
    ")\n",
    "cur = conn.cursor()\n",
    "\n",
    "# ✅ Loop through state → year → quarter\n",
    "for state in os.listdir(base_path):\n",
    "    state_path = os.path.join(base_path, state)\n",
    "    for year in os.listdir(state_path):\n",
    "        year_path = os.path.join(state_path, year)\n",
    "        for file in os.listdir(year_path):\n",
    "            if not file.endswith(\".json\"):\n",
    "                continue\n",
    "\n",
    "            quarter = int(file.strip(\".json\"))\n",
    "            file_path = os.path.join(year_path, file)\n",
    "\n",
    "            # print(f\"\\n📂 Reading: {file_path}\")\n",
    "\n",
    "            with open(file_path, 'r') as f:\n",
    "                data = json.load(f)\n",
    "\n",
    "            pin_data = data.get(\"data\", {}).get(\"pincodes\", [])\n",
    "            # print(f\"📦 Pincodes Found: {len(pin_data)}\")\n",
    "\n",
    "            for entry in pin_data:\n",
    "                pincode = entry.get(\"entityName\")\n",
    "                txn_count = entry.get(\"metric\", {}).get(\"count\", 0)\n",
    "                txn_amount = entry.get(\"metric\", {}).get(\"amount\", 0.0)\n",
    "\n",
    "                # print(f\"📌 Inserting: {state}, {year}, Q{quarter}, {pincode}, {txn_count}, {txn_amount}\")\n",
    "\n",
    "                cur.execute(\"\"\"\n",
    "                    INSERT INTO top_transaction (state, year, quarter, pincode, transaction_count, transaction_amount)\n",
    "                    VALUES (%s, %s, %s, %s, %s, %s)\n",
    "                \"\"\", (state, int(year), quarter, pincode, txn_count, txn_amount))\n",
    "\n",
    "# ✅ Done\n",
    "conn.commit()\n",
    "cur.close()\n",
    "conn.close()\n",
    "\n",
    "print(\"\\n✅ top_transaction data loaded successfully!\")\n"
   ]
  },
  {
   "cell_type": "markdown",
   "id": "cd3de1d8-11ae-4a9e-82f8-636bf6a46de5",
   "metadata": {
    "jp-MarkdownHeadingCollapsed": true
   },
   "source": [
    "# Top_user Data for SQL "
   ]
  },
  {
   "cell_type": "code",
   "execution_count": 28,
   "id": "f6cf9b93-f199-49b6-9cd3-328615f381fd",
   "metadata": {},
   "outputs": [
    {
     "name": "stdout",
     "output_type": "stream",
     "text": [
      "\n",
      "✅ top_user data loaded successfully!\n"
     ]
    }
   ],
   "source": [
    "import os\n",
    "import json\n",
    "import mysql.connector\n",
    "\n",
    "# ✅ Path to your JSON data\n",
    "base_path = r\"C:/Users/LENOVO/Desktop/Phone pe/pulse-master/pulse-master/data/top/user/country/india/state\"\n",
    "\n",
    "# ✅ Connect to MySQL\n",
    "conn = mysql.connector.connect(\n",
    "    host='localhost',\n",
    "    user='root',\n",
    "    password='Root',\n",
    "    database='phonepe'\n",
    ")\n",
    "cur = conn.cursor()\n",
    "\n",
    "# ✅ Loop through states, years, and quarters\n",
    "for state in os.listdir(base_path):\n",
    "    state_path = os.path.join(base_path, state)\n",
    "    for year in os.listdir(state_path):\n",
    "        year_path = os.path.join(state_path, year)\n",
    "        for file in os.listdir(year_path):\n",
    "            if not file.endswith(\".json\"):\n",
    "                continue\n",
    "\n",
    "            quarter = int(file.strip(\".json\"))\n",
    "            file_path = os.path.join(year_path, file)\n",
    "\n",
    "            # print(f\"\\n📂 Reading: {file_path}\")\n",
    "\n",
    "            with open(file_path, 'r') as f:\n",
    "                data = json.load(f)\n",
    "\n",
    "            pin_data = data.get(\"data\", {}).get(\"pincodes\", [])\n",
    "            # print(f\"📦 Pincodes Found: {len(pin_data)}\")\n",
    "\n",
    "            for entry in pin_data:\n",
    "                pincode = entry.get(\"name\")\n",
    "                registered_users = entry.get(\"registeredUsers\", 0)\n",
    "\n",
    "                # print(f\"📌 Inserting: {state}, {year}, Q{quarter}, {pincode}, {registered_users}\")\n",
    "\n",
    "                cur.execute(\"\"\"\n",
    "                    INSERT INTO top_user (state, year, quarter, pincode, registered_users)\n",
    "                    VALUES (%s, %s, %s, %s, %s)\n",
    "                \"\"\", (state, int(year), quarter, pincode, registered_users))\n",
    "\n",
    "# ✅ Save and close\n",
    "conn.commit()\n",
    "cur.close()\n",
    "conn.close()\n",
    "\n",
    "print(\"\\n✅ top_user data loaded successfully!\")\n"
   ]
  },
  {
   "cell_type": "markdown",
   "id": "dda41428-f17f-44e1-b45b-b220f55e8547",
   "metadata": {
    "jp-MarkdownHeadingCollapsed": true
   },
   "source": [
    "# Top_insurance_new Data for SQL \n"
   ]
  },
  {
   "cell_type": "code",
   "execution_count": 32,
   "id": "9adb7375-21b8-4204-a2ba-594b73e7c635",
   "metadata": {},
   "outputs": [
    {
     "name": "stdout",
     "output_type": "stream",
     "text": [
      "✅ top_insurance_new data loaded successfully!\n"
     ]
    }
   ],
   "source": [
    "import os\n",
    "import json\n",
    "import mysql.connector\n",
    "\n",
    "# ✅ Correct path to top/insurance data\n",
    "base_path = r\"C:/Users/LENOVO/Desktop/Phone pe/pulse-master/pulse-master/data/top/insurance/country/india/state\"\n",
    "\n",
    "# ✅ MySQL connection\n",
    "conn = mysql.connector.connect(\n",
    "    host='localhost',\n",
    "    user='root',\n",
    "    password='Root',\n",
    "    database='phonepe'\n",
    ")\n",
    "cur = conn.cursor()\n",
    "\n",
    "# ✅ Loop through state → year → quarter\n",
    "for state in os.listdir(base_path):\n",
    "    state_path = os.path.join(base_path, state)\n",
    "    for year in os.listdir(state_path):\n",
    "        year_path = os.path.join(state_path, year)\n",
    "        for file in os.listdir(year_path):\n",
    "            if not file.endswith(\".json\"):\n",
    "                continue\n",
    "\n",
    "            quarter = int(file.strip(\".json\"))\n",
    "            file_path = os.path.join(year_path, file)\n",
    "\n",
    "            with open(file_path, 'r') as f:\n",
    "                data = json.load(f)\n",
    "\n",
    "            pin_data = data.get(\"data\", {}).get(\"pincodes\", [])\n",
    "\n",
    "            for entry in pin_data:\n",
    "                pincode = entry.get(\"name\")  # NOTE: sometimes \"name\" is used\n",
    "                insured_users = entry.get(\"registeredUsers\", 0)\n",
    "\n",
    "                # ✅ Insert into DB\n",
    "                cur.execute(\"\"\"\n",
    "                    INSERT INTO top_insurance (state, year, quarter, pincode, insured_users)\n",
    "                    VALUES (%s, %s, %s, %s, %s)\n",
    "                \"\"\", (state, int(year), quarter, pincode, insured_users))\n",
    "\n",
    "# ✅ Finalize\n",
    "conn.commit()\n",
    "cur.close()\n",
    "conn.close()\n",
    "\n",
    "print(\"✅ top_insurance_new data loaded successfully!\")\n"
   ]
  },
  {
   "cell_type": "markdown",
   "id": "9c0f3159-bacb-4816-936f-ef371e8449d7",
   "metadata": {
    "jp-MarkdownHeadingCollapsed": true
   },
   "source": [
    "# Final Check data import or not \n"
   ]
  },
  {
   "cell_type": "code",
   "execution_count": 34,
   "id": "e1542ca0-943b-46f0-84cc-eb4e9035ffce",
   "metadata": {},
   "outputs": [
    {
     "name": "stdout",
     "output_type": "stream",
     "text": [
      "📊 Final Table Row Count Check:\n",
      "\n",
      "✅ aggregated_transaction: 5034 rows\n",
      "✅ aggregated_user: 1008 rows\n",
      "✅ aggregated_insurance: 682 rows\n",
      "✅ map_transaction: 20604 rows\n",
      "✅ map_user: 20608 rows\n",
      "✅ map_insurance: 13876 rows\n",
      "✅ top_transaction: 9999 rows\n",
      "✅ top_user: 10000 rows\n",
      "✅ top_insurance: 6668 rows\n"
     ]
    }
   ],
   "source": [
    "import mysql.connector\n",
    "\n",
    "# ✅ MySQL Connection\n",
    "conn = mysql.connector.connect(\n",
    "    host='localhost',\n",
    "    user='root',\n",
    "    password='Root',\n",
    "    database='phonepe'\n",
    ")\n",
    "cur = conn.cursor()\n",
    "\n",
    "tables = [\n",
    "    \"aggregated_transaction\",\n",
    "    \"aggregated_user\",\n",
    "    \"aggregated_insurance\",\n",
    "    \"map_transaction\",\n",
    "    \"map_user\",\n",
    "    \"map_insurance\",\n",
    "    \"top_transaction\",\n",
    "    \"top_user\",\n",
    "    \"top_insurance\"\n",
    "]\n",
    "\n",
    "print(\"📊 Final Table Row Count Check:\\n\")\n",
    "\n",
    "for table in tables:\n",
    "    try:\n",
    "        cur.execute(f\"SELECT COUNT(*) FROM {table}\")\n",
    "        count = cur.fetchone()[0]\n",
    "        print(f\"✅ {table}: {count} rows\")\n",
    "    except Exception as e:\n",
    "        print(f\"❌ {table}: Error - {e}\")\n",
    "\n",
    "cur.close()\n",
    "conn.close()\n"
   ]
  },
  {
   "cell_type": "code",
   "execution_count": null,
   "id": "7669f346-57a5-463e-b86f-2b95d4ee48e0",
   "metadata": {},
   "outputs": [],
   "source": []
  }
 ],
 "metadata": {
  "kernelspec": {
   "display_name": "Python [conda env:anaconda3] *",
   "language": "python",
   "name": "conda-env-anaconda3-py"
  },
  "language_info": {
   "codemirror_mode": {
    "name": "ipython",
    "version": 3
   },
   "file_extension": ".py",
   "mimetype": "text/x-python",
   "name": "python",
   "nbconvert_exporter": "python",
   "pygments_lexer": "ipython3",
   "version": "3.12.7"
  }
 },
 "nbformat": 4,
 "nbformat_minor": 5
}
